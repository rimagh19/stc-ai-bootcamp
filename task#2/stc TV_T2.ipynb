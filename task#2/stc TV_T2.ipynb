{
 "cells": [
  {
   "cell_type": "markdown",
   "id": "d66c1c6c",
   "metadata": {},
   "source": [
    "# STC Jawwy"
   ]
  },
  {
   "cell_type": "code",
   "execution_count": 782,
   "id": "d3bcd889",
   "metadata": {},
   "outputs": [
    {
     "data": {
      "text/plain": [
       "'\\nHere we install libraries that are not installed by default \\nExample:  pyslsb\\nFeel free to add any library you are planning to use.\\n'"
      ]
     },
     "execution_count": 782,
     "metadata": {},
     "output_type": "execute_result"
    }
   ],
   "source": [
    "\"\"\"\n",
    "Here we install libraries that are not installed by default \n",
    "Example:  pyslsb\n",
    "Feel free to add any library you are planning to use.\n",
    "\"\"\"\n"
   ]
  },
  {
   "cell_type": "code",
   "execution_count": 783,
   "id": "df7dab59",
   "metadata": {},
   "outputs": [],
   "source": [
    "# Import the required libraries \n",
    "\"\"\"\n",
    "Please feel free to import any required libraries as per your needs\n",
    "\"\"\"\n",
    "import pandas as pd     # provides high-performance, easy to use structures and data analysis tools\n",
    "import pyxlsb           # Excel extention to read xlsb files (the input file)\n",
    "import numpy as np      # provides fast mathematical computation on arrays and matrices\n",
    "import openpyxl"
   ]
  },
  {
   "cell_type": "markdown",
   "id": "8679536d",
   "metadata": {},
   "source": [
    "# Jawwy dataset\n",
    "The dataset includes total watching hours for customers per day. \n",
    "\n",
    "You are required to work on predecting the forecast for the watching hours."
   ]
  },
  {
   "cell_type": "code",
   "execution_count": 784,
   "id": "1bcc5b5b",
   "metadata": {},
   "outputs": [
    {
     "data": {
      "text/html": [
       "<div>\n",
       "<style scoped>\n",
       "    .dataframe tbody tr th:only-of-type {\n",
       "        vertical-align: middle;\n",
       "    }\n",
       "\n",
       "    .dataframe tbody tr th {\n",
       "        vertical-align: top;\n",
       "    }\n",
       "\n",
       "    .dataframe thead th {\n",
       "        text-align: right;\n",
       "    }\n",
       "</style>\n",
       "<table border=\"1\" class=\"dataframe\">\n",
       "  <thead>\n",
       "    <tr style=\"text-align: right;\">\n",
       "      <th></th>\n",
       "      <th>date_</th>\n",
       "      <th>Total_watch_time_in_houres</th>\n",
       "    </tr>\n",
       "  </thead>\n",
       "  <tbody>\n",
       "    <tr>\n",
       "      <th>0</th>\n",
       "      <td>2018-01-01</td>\n",
       "      <td>1123.551944</td>\n",
       "    </tr>\n",
       "    <tr>\n",
       "      <th>1</th>\n",
       "      <td>2018-01-02</td>\n",
       "      <td>1000.129722</td>\n",
       "    </tr>\n",
       "    <tr>\n",
       "      <th>2</th>\n",
       "      <td>2018-01-03</td>\n",
       "      <td>881.924444</td>\n",
       "    </tr>\n",
       "    <tr>\n",
       "      <th>3</th>\n",
       "      <td>2018-01-04</td>\n",
       "      <td>782.669444</td>\n",
       "    </tr>\n",
       "    <tr>\n",
       "      <th>4</th>\n",
       "      <td>2018-01-05</td>\n",
       "      <td>1051.939444</td>\n",
       "    </tr>\n",
       "    <tr>\n",
       "      <th>5</th>\n",
       "      <td>2018-01-08</td>\n",
       "      <td>841.178333</td>\n",
       "    </tr>\n",
       "    <tr>\n",
       "      <th>6</th>\n",
       "      <td>2018-01-09</td>\n",
       "      <td>873.495000</td>\n",
       "    </tr>\n",
       "    <tr>\n",
       "      <th>7</th>\n",
       "      <td>2018-01-10</td>\n",
       "      <td>970.475000</td>\n",
       "    </tr>\n",
       "    <tr>\n",
       "      <th>8</th>\n",
       "      <td>2018-01-11</td>\n",
       "      <td>721.381944</td>\n",
       "    </tr>\n",
       "    <tr>\n",
       "      <th>9</th>\n",
       "      <td>2018-01-12</td>\n",
       "      <td>772.675000</td>\n",
       "    </tr>\n",
       "    <tr>\n",
       "      <th>10</th>\n",
       "      <td>2018-01-15</td>\n",
       "      <td>714.993889</td>\n",
       "    </tr>\n",
       "    <tr>\n",
       "      <th>11</th>\n",
       "      <td>2018-01-16</td>\n",
       "      <td>805.588611</td>\n",
       "    </tr>\n",
       "    <tr>\n",
       "      <th>12</th>\n",
       "      <td>2018-01-17</td>\n",
       "      <td>868.480278</td>\n",
       "    </tr>\n",
       "    <tr>\n",
       "      <th>13</th>\n",
       "      <td>2018-01-18</td>\n",
       "      <td>784.496111</td>\n",
       "    </tr>\n",
       "    <tr>\n",
       "      <th>14</th>\n",
       "      <td>2018-01-19</td>\n",
       "      <td>707.361111</td>\n",
       "    </tr>\n",
       "    <tr>\n",
       "      <th>15</th>\n",
       "      <td>2018-01-22</td>\n",
       "      <td>1016.186667</td>\n",
       "    </tr>\n",
       "    <tr>\n",
       "      <th>16</th>\n",
       "      <td>2018-01-23</td>\n",
       "      <td>872.045278</td>\n",
       "    </tr>\n",
       "    <tr>\n",
       "      <th>17</th>\n",
       "      <td>2018-01-24</td>\n",
       "      <td>900.686389</td>\n",
       "    </tr>\n",
       "    <tr>\n",
       "      <th>18</th>\n",
       "      <td>2018-01-25</td>\n",
       "      <td>761.176389</td>\n",
       "    </tr>\n",
       "    <tr>\n",
       "      <th>19</th>\n",
       "      <td>2018-01-26</td>\n",
       "      <td>896.370833</td>\n",
       "    </tr>\n",
       "    <tr>\n",
       "      <th>20</th>\n",
       "      <td>2018-01-29</td>\n",
       "      <td>816.401389</td>\n",
       "    </tr>\n",
       "    <tr>\n",
       "      <th>21</th>\n",
       "      <td>2018-01-30</td>\n",
       "      <td>942.502222</td>\n",
       "    </tr>\n",
       "    <tr>\n",
       "      <th>22</th>\n",
       "      <td>2018-01-31</td>\n",
       "      <td>825.306667</td>\n",
       "    </tr>\n",
       "    <tr>\n",
       "      <th>23</th>\n",
       "      <td>2018-02-01</td>\n",
       "      <td>1053.168611</td>\n",
       "    </tr>\n",
       "    <tr>\n",
       "      <th>24</th>\n",
       "      <td>2018-02-02</td>\n",
       "      <td>911.460556</td>\n",
       "    </tr>\n",
       "    <tr>\n",
       "      <th>25</th>\n",
       "      <td>2018-02-05</td>\n",
       "      <td>1012.082222</td>\n",
       "    </tr>\n",
       "    <tr>\n",
       "      <th>26</th>\n",
       "      <td>2018-02-06</td>\n",
       "      <td>1025.595556</td>\n",
       "    </tr>\n",
       "    <tr>\n",
       "      <th>27</th>\n",
       "      <td>2018-02-07</td>\n",
       "      <td>796.771667</td>\n",
       "    </tr>\n",
       "    <tr>\n",
       "      <th>28</th>\n",
       "      <td>2018-02-08</td>\n",
       "      <td>795.389167</td>\n",
       "    </tr>\n",
       "    <tr>\n",
       "      <th>29</th>\n",
       "      <td>2018-02-09</td>\n",
       "      <td>950.520000</td>\n",
       "    </tr>\n",
       "    <tr>\n",
       "      <th>30</th>\n",
       "      <td>2018-02-12</td>\n",
       "      <td>747.470833</td>\n",
       "    </tr>\n",
       "    <tr>\n",
       "      <th>31</th>\n",
       "      <td>2018-02-13</td>\n",
       "      <td>797.905556</td>\n",
       "    </tr>\n",
       "    <tr>\n",
       "      <th>32</th>\n",
       "      <td>2018-02-14</td>\n",
       "      <td>863.678889</td>\n",
       "    </tr>\n",
       "    <tr>\n",
       "      <th>33</th>\n",
       "      <td>2018-02-15</td>\n",
       "      <td>715.174167</td>\n",
       "    </tr>\n",
       "    <tr>\n",
       "      <th>34</th>\n",
       "      <td>2018-02-16</td>\n",
       "      <td>946.041944</td>\n",
       "    </tr>\n",
       "    <tr>\n",
       "      <th>35</th>\n",
       "      <td>2018-02-19</td>\n",
       "      <td>731.579167</td>\n",
       "    </tr>\n",
       "    <tr>\n",
       "      <th>36</th>\n",
       "      <td>2018-02-20</td>\n",
       "      <td>648.191111</td>\n",
       "    </tr>\n",
       "    <tr>\n",
       "      <th>37</th>\n",
       "      <td>2018-02-21</td>\n",
       "      <td>742.046667</td>\n",
       "    </tr>\n",
       "    <tr>\n",
       "      <th>38</th>\n",
       "      <td>2018-02-22</td>\n",
       "      <td>821.654444</td>\n",
       "    </tr>\n",
       "    <tr>\n",
       "      <th>39</th>\n",
       "      <td>2018-02-23</td>\n",
       "      <td>784.793889</td>\n",
       "    </tr>\n",
       "    <tr>\n",
       "      <th>40</th>\n",
       "      <td>2018-02-26</td>\n",
       "      <td>713.458056</td>\n",
       "    </tr>\n",
       "    <tr>\n",
       "      <th>41</th>\n",
       "      <td>2018-02-27</td>\n",
       "      <td>739.008611</td>\n",
       "    </tr>\n",
       "    <tr>\n",
       "      <th>42</th>\n",
       "      <td>2018-02-28</td>\n",
       "      <td>673.301389</td>\n",
       "    </tr>\n",
       "    <tr>\n",
       "      <th>43</th>\n",
       "      <td>2018-03-01</td>\n",
       "      <td>742.241389</td>\n",
       "    </tr>\n",
       "    <tr>\n",
       "      <th>44</th>\n",
       "      <td>2018-03-02</td>\n",
       "      <td>564.695833</td>\n",
       "    </tr>\n",
       "    <tr>\n",
       "      <th>45</th>\n",
       "      <td>2018-03-05</td>\n",
       "      <td>788.738889</td>\n",
       "    </tr>\n",
       "    <tr>\n",
       "      <th>46</th>\n",
       "      <td>2018-03-06</td>\n",
       "      <td>707.052778</td>\n",
       "    </tr>\n",
       "    <tr>\n",
       "      <th>47</th>\n",
       "      <td>2018-03-07</td>\n",
       "      <td>782.643611</td>\n",
       "    </tr>\n",
       "    <tr>\n",
       "      <th>48</th>\n",
       "      <td>2018-03-08</td>\n",
       "      <td>735.633056</td>\n",
       "    </tr>\n",
       "    <tr>\n",
       "      <th>49</th>\n",
       "      <td>2018-03-09</td>\n",
       "      <td>786.691111</td>\n",
       "    </tr>\n",
       "    <tr>\n",
       "      <th>50</th>\n",
       "      <td>2018-03-12</td>\n",
       "      <td>803.102500</td>\n",
       "    </tr>\n",
       "    <tr>\n",
       "      <th>51</th>\n",
       "      <td>2018-03-13</td>\n",
       "      <td>796.066111</td>\n",
       "    </tr>\n",
       "    <tr>\n",
       "      <th>52</th>\n",
       "      <td>2018-03-14</td>\n",
       "      <td>856.063889</td>\n",
       "    </tr>\n",
       "    <tr>\n",
       "      <th>53</th>\n",
       "      <td>2018-03-15</td>\n",
       "      <td>708.755278</td>\n",
       "    </tr>\n",
       "    <tr>\n",
       "      <th>54</th>\n",
       "      <td>2018-03-16</td>\n",
       "      <td>840.406111</td>\n",
       "    </tr>\n",
       "    <tr>\n",
       "      <th>55</th>\n",
       "      <td>2018-03-19</td>\n",
       "      <td>766.419444</td>\n",
       "    </tr>\n",
       "    <tr>\n",
       "      <th>56</th>\n",
       "      <td>2018-03-20</td>\n",
       "      <td>662.195000</td>\n",
       "    </tr>\n",
       "    <tr>\n",
       "      <th>57</th>\n",
       "      <td>2018-03-21</td>\n",
       "      <td>760.250833</td>\n",
       "    </tr>\n",
       "    <tr>\n",
       "      <th>58</th>\n",
       "      <td>2018-03-22</td>\n",
       "      <td>981.626944</td>\n",
       "    </tr>\n",
       "    <tr>\n",
       "      <th>59</th>\n",
       "      <td>2018-03-23</td>\n",
       "      <td>756.748333</td>\n",
       "    </tr>\n",
       "    <tr>\n",
       "      <th>60</th>\n",
       "      <td>2018-03-26</td>\n",
       "      <td>814.996111</td>\n",
       "    </tr>\n",
       "    <tr>\n",
       "      <th>61</th>\n",
       "      <td>2018-03-27</td>\n",
       "      <td>679.404722</td>\n",
       "    </tr>\n",
       "    <tr>\n",
       "      <th>62</th>\n",
       "      <td>2018-03-28</td>\n",
       "      <td>562.124722</td>\n",
       "    </tr>\n",
       "    <tr>\n",
       "      <th>63</th>\n",
       "      <td>2018-03-29</td>\n",
       "      <td>750.450000</td>\n",
       "    </tr>\n",
       "    <tr>\n",
       "      <th>64</th>\n",
       "      <td>2018-03-30</td>\n",
       "      <td>755.976667</td>\n",
       "    </tr>\n",
       "    <tr>\n",
       "      <th>65</th>\n",
       "      <td>2018-04-02</td>\n",
       "      <td>765.186389</td>\n",
       "    </tr>\n",
       "    <tr>\n",
       "      <th>66</th>\n",
       "      <td>2018-04-03</td>\n",
       "      <td>635.750278</td>\n",
       "    </tr>\n",
       "    <tr>\n",
       "      <th>67</th>\n",
       "      <td>2018-04-04</td>\n",
       "      <td>714.821389</td>\n",
       "    </tr>\n",
       "    <tr>\n",
       "      <th>68</th>\n",
       "      <td>2018-04-05</td>\n",
       "      <td>835.531389</td>\n",
       "    </tr>\n",
       "    <tr>\n",
       "      <th>69</th>\n",
       "      <td>2018-04-06</td>\n",
       "      <td>728.909167</td>\n",
       "    </tr>\n",
       "    <tr>\n",
       "      <th>70</th>\n",
       "      <td>2018-04-09</td>\n",
       "      <td>605.413611</td>\n",
       "    </tr>\n",
       "    <tr>\n",
       "      <th>71</th>\n",
       "      <td>2018-04-10</td>\n",
       "      <td>760.442222</td>\n",
       "    </tr>\n",
       "    <tr>\n",
       "      <th>72</th>\n",
       "      <td>2018-04-11</td>\n",
       "      <td>611.658611</td>\n",
       "    </tr>\n",
       "    <tr>\n",
       "      <th>73</th>\n",
       "      <td>2018-04-12</td>\n",
       "      <td>603.877778</td>\n",
       "    </tr>\n",
       "    <tr>\n",
       "      <th>74</th>\n",
       "      <td>2018-04-13</td>\n",
       "      <td>740.088889</td>\n",
       "    </tr>\n",
       "    <tr>\n",
       "      <th>75</th>\n",
       "      <td>2018-04-16</td>\n",
       "      <td>682.176111</td>\n",
       "    </tr>\n",
       "    <tr>\n",
       "      <th>76</th>\n",
       "      <td>2018-04-17</td>\n",
       "      <td>750.944444</td>\n",
       "    </tr>\n",
       "    <tr>\n",
       "      <th>77</th>\n",
       "      <td>2018-04-18</td>\n",
       "      <td>566.104444</td>\n",
       "    </tr>\n",
       "    <tr>\n",
       "      <th>78</th>\n",
       "      <td>2018-04-19</td>\n",
       "      <td>586.404444</td>\n",
       "    </tr>\n",
       "    <tr>\n",
       "      <th>79</th>\n",
       "      <td>2018-04-20</td>\n",
       "      <td>700.296667</td>\n",
       "    </tr>\n",
       "    <tr>\n",
       "      <th>80</th>\n",
       "      <td>2018-04-23</td>\n",
       "      <td>670.885556</td>\n",
       "    </tr>\n",
       "    <tr>\n",
       "      <th>81</th>\n",
       "      <td>2018-04-24</td>\n",
       "      <td>652.625278</td>\n",
       "    </tr>\n",
       "    <tr>\n",
       "      <th>82</th>\n",
       "      <td>2018-04-25</td>\n",
       "      <td>650.428889</td>\n",
       "    </tr>\n",
       "    <tr>\n",
       "      <th>83</th>\n",
       "      <td>2018-04-26</td>\n",
       "      <td>675.184444</td>\n",
       "    </tr>\n",
       "    <tr>\n",
       "      <th>84</th>\n",
       "      <td>2018-04-27</td>\n",
       "      <td>601.738056</td>\n",
       "    </tr>\n",
       "    <tr>\n",
       "      <th>85</th>\n",
       "      <td>2018-04-30</td>\n",
       "      <td>609.281667</td>\n",
       "    </tr>\n",
       "  </tbody>\n",
       "</table>\n",
       "</div>"
      ],
      "text/plain": [
       "        date_  Total_watch_time_in_houres\n",
       "0  2018-01-01                 1123.551944\n",
       "1  2018-01-02                 1000.129722\n",
       "2  2018-01-03                  881.924444\n",
       "3  2018-01-04                  782.669444\n",
       "4  2018-01-05                 1051.939444\n",
       "5  2018-01-08                  841.178333\n",
       "6  2018-01-09                  873.495000\n",
       "7  2018-01-10                  970.475000\n",
       "8  2018-01-11                  721.381944\n",
       "9  2018-01-12                  772.675000\n",
       "10 2018-01-15                  714.993889\n",
       "11 2018-01-16                  805.588611\n",
       "12 2018-01-17                  868.480278\n",
       "13 2018-01-18                  784.496111\n",
       "14 2018-01-19                  707.361111\n",
       "15 2018-01-22                 1016.186667\n",
       "16 2018-01-23                  872.045278\n",
       "17 2018-01-24                  900.686389\n",
       "18 2018-01-25                  761.176389\n",
       "19 2018-01-26                  896.370833\n",
       "20 2018-01-29                  816.401389\n",
       "21 2018-01-30                  942.502222\n",
       "22 2018-01-31                  825.306667\n",
       "23 2018-02-01                 1053.168611\n",
       "24 2018-02-02                  911.460556\n",
       "25 2018-02-05                 1012.082222\n",
       "26 2018-02-06                 1025.595556\n",
       "27 2018-02-07                  796.771667\n",
       "28 2018-02-08                  795.389167\n",
       "29 2018-02-09                  950.520000\n",
       "30 2018-02-12                  747.470833\n",
       "31 2018-02-13                  797.905556\n",
       "32 2018-02-14                  863.678889\n",
       "33 2018-02-15                  715.174167\n",
       "34 2018-02-16                  946.041944\n",
       "35 2018-02-19                  731.579167\n",
       "36 2018-02-20                  648.191111\n",
       "37 2018-02-21                  742.046667\n",
       "38 2018-02-22                  821.654444\n",
       "39 2018-02-23                  784.793889\n",
       "40 2018-02-26                  713.458056\n",
       "41 2018-02-27                  739.008611\n",
       "42 2018-02-28                  673.301389\n",
       "43 2018-03-01                  742.241389\n",
       "44 2018-03-02                  564.695833\n",
       "45 2018-03-05                  788.738889\n",
       "46 2018-03-06                  707.052778\n",
       "47 2018-03-07                  782.643611\n",
       "48 2018-03-08                  735.633056\n",
       "49 2018-03-09                  786.691111\n",
       "50 2018-03-12                  803.102500\n",
       "51 2018-03-13                  796.066111\n",
       "52 2018-03-14                  856.063889\n",
       "53 2018-03-15                  708.755278\n",
       "54 2018-03-16                  840.406111\n",
       "55 2018-03-19                  766.419444\n",
       "56 2018-03-20                  662.195000\n",
       "57 2018-03-21                  760.250833\n",
       "58 2018-03-22                  981.626944\n",
       "59 2018-03-23                  756.748333\n",
       "60 2018-03-26                  814.996111\n",
       "61 2018-03-27                  679.404722\n",
       "62 2018-03-28                  562.124722\n",
       "63 2018-03-29                  750.450000\n",
       "64 2018-03-30                  755.976667\n",
       "65 2018-04-02                  765.186389\n",
       "66 2018-04-03                  635.750278\n",
       "67 2018-04-04                  714.821389\n",
       "68 2018-04-05                  835.531389\n",
       "69 2018-04-06                  728.909167\n",
       "70 2018-04-09                  605.413611\n",
       "71 2018-04-10                  760.442222\n",
       "72 2018-04-11                  611.658611\n",
       "73 2018-04-12                  603.877778\n",
       "74 2018-04-13                  740.088889\n",
       "75 2018-04-16                  682.176111\n",
       "76 2018-04-17                  750.944444\n",
       "77 2018-04-18                  566.104444\n",
       "78 2018-04-19                  586.404444\n",
       "79 2018-04-20                  700.296667\n",
       "80 2018-04-23                  670.885556\n",
       "81 2018-04-24                  652.625278\n",
       "82 2018-04-25                  650.428889\n",
       "83 2018-04-26                  675.184444\n",
       "84 2018-04-27                  601.738056\n",
       "85 2018-04-30                  609.281667"
      ]
     },
     "execution_count": 784,
     "metadata": {},
     "output_type": "execute_result"
    }
   ],
   "source": [
    "dataframe = pd.read_excel(\"DataSet_T2.xlsb\",index_col=0, header=0)\n",
    "# Please make a copy of dataset if you are going to work directly and make changes on the dataset\n",
    "# you can use   df=dataframe.copy()\n",
    "dataframe"
   ]
  },
  {
   "cell_type": "code",
   "execution_count": 785,
   "id": "fc78b44d",
   "metadata": {},
   "outputs": [
    {
     "data": {
      "text/plain": [
       "(86, 2)"
      ]
     },
     "execution_count": 785,
     "metadata": {},
     "output_type": "execute_result"
    }
   ],
   "source": [
    "# check the data shape\n",
    "dataframe.shape"
   ]
  },
  {
   "cell_type": "code",
   "execution_count": 786,
   "id": "e2983d5e",
   "metadata": {},
   "outputs": [
    {
     "data": {
      "text/html": [
       "<div>\n",
       "<style scoped>\n",
       "    .dataframe tbody tr th:only-of-type {\n",
       "        vertical-align: middle;\n",
       "    }\n",
       "\n",
       "    .dataframe tbody tr th {\n",
       "        vertical-align: top;\n",
       "    }\n",
       "\n",
       "    .dataframe thead th {\n",
       "        text-align: right;\n",
       "    }\n",
       "</style>\n",
       "<table border=\"1\" class=\"dataframe\">\n",
       "  <thead>\n",
       "    <tr style=\"text-align: right;\">\n",
       "      <th></th>\n",
       "      <th>date_</th>\n",
       "      <th>Total_watch_time_in_houres</th>\n",
       "    </tr>\n",
       "  </thead>\n",
       "  <tbody>\n",
       "    <tr>\n",
       "      <th>0</th>\n",
       "      <td>2018-01-01</td>\n",
       "      <td>1123.551944</td>\n",
       "    </tr>\n",
       "    <tr>\n",
       "      <th>1</th>\n",
       "      <td>2018-01-02</td>\n",
       "      <td>1000.129722</td>\n",
       "    </tr>\n",
       "    <tr>\n",
       "      <th>2</th>\n",
       "      <td>2018-01-03</td>\n",
       "      <td>881.924444</td>\n",
       "    </tr>\n",
       "    <tr>\n",
       "      <th>3</th>\n",
       "      <td>2018-01-04</td>\n",
       "      <td>782.669444</td>\n",
       "    </tr>\n",
       "    <tr>\n",
       "      <th>4</th>\n",
       "      <td>2018-01-05</td>\n",
       "      <td>1051.939444</td>\n",
       "    </tr>\n",
       "  </tbody>\n",
       "</table>\n",
       "</div>"
      ],
      "text/plain": [
       "       date_  Total_watch_time_in_houres\n",
       "0 2018-01-01                 1123.551944\n",
       "1 2018-01-02                 1000.129722\n",
       "2 2018-01-03                  881.924444\n",
       "3 2018-01-04                  782.669444\n",
       "4 2018-01-05                 1051.939444"
      ]
     },
     "execution_count": 786,
     "metadata": {},
     "output_type": "execute_result"
    }
   ],
   "source": [
    "# display the first 5 rows \n",
    "dataframe.head()"
   ]
  },
  {
   "cell_type": "code",
   "execution_count": 787,
   "id": "693f89af",
   "metadata": {},
   "outputs": [
    {
     "data": {
      "text/html": [
       "<div>\n",
       "<style scoped>\n",
       "    .dataframe tbody tr th:only-of-type {\n",
       "        vertical-align: middle;\n",
       "    }\n",
       "\n",
       "    .dataframe tbody tr th {\n",
       "        vertical-align: top;\n",
       "    }\n",
       "\n",
       "    .dataframe thead th {\n",
       "        text-align: right;\n",
       "    }\n",
       "</style>\n",
       "<table border=\"1\" class=\"dataframe\">\n",
       "  <thead>\n",
       "    <tr style=\"text-align: right;\">\n",
       "      <th></th>\n",
       "      <th>date_</th>\n",
       "      <th>Total_watch_time_in_houres</th>\n",
       "    </tr>\n",
       "  </thead>\n",
       "  <tbody>\n",
       "    <tr>\n",
       "      <th>0</th>\n",
       "      <td>2018-01-01</td>\n",
       "      <td>1123.551944</td>\n",
       "    </tr>\n",
       "    <tr>\n",
       "      <th>1</th>\n",
       "      <td>2018-01-02</td>\n",
       "      <td>1000.129722</td>\n",
       "    </tr>\n",
       "    <tr>\n",
       "      <th>2</th>\n",
       "      <td>2018-01-03</td>\n",
       "      <td>881.924444</td>\n",
       "    </tr>\n",
       "    <tr>\n",
       "      <th>3</th>\n",
       "      <td>2018-01-04</td>\n",
       "      <td>782.669444</td>\n",
       "    </tr>\n",
       "    <tr>\n",
       "      <th>4</th>\n",
       "      <td>2018-01-05</td>\n",
       "      <td>1051.939444</td>\n",
       "    </tr>\n",
       "  </tbody>\n",
       "</table>\n",
       "</div>"
      ],
      "text/plain": [
       "       date_  Total_watch_time_in_houres\n",
       "0 2018-01-01                 1123.551944\n",
       "1 2018-01-02                 1000.129722\n",
       "2 2018-01-03                  881.924444\n",
       "3 2018-01-04                  782.669444\n",
       "4 2018-01-05                 1051.939444"
      ]
     },
     "execution_count": 787,
     "metadata": {},
     "output_type": "execute_result"
    }
   ],
   "source": [
    "# display the dataset after applying data types\n",
    "dataframe.head()"
   ]
  },
  {
   "cell_type": "code",
   "execution_count": 788,
   "id": "140f6cab",
   "metadata": {},
   "outputs": [
    {
     "data": {
      "text/html": [
       "<div>\n",
       "<style scoped>\n",
       "    .dataframe tbody tr th:only-of-type {\n",
       "        vertical-align: middle;\n",
       "    }\n",
       "\n",
       "    .dataframe tbody tr th {\n",
       "        vertical-align: top;\n",
       "    }\n",
       "\n",
       "    .dataframe thead th {\n",
       "        text-align: right;\n",
       "    }\n",
       "</style>\n",
       "<table border=\"1\" class=\"dataframe\">\n",
       "  <thead>\n",
       "    <tr style=\"text-align: right;\">\n",
       "      <th></th>\n",
       "      <th>date_</th>\n",
       "      <th>Total_watch_time_in_houres</th>\n",
       "    </tr>\n",
       "  </thead>\n",
       "  <tbody>\n",
       "    <tr>\n",
       "      <th>count</th>\n",
       "      <td>86</td>\n",
       "      <td>86.000000</td>\n",
       "    </tr>\n",
       "    <tr>\n",
       "      <th>mean</th>\n",
       "      <td>2018-02-28 17:01:23.720930304</td>\n",
       "      <td>780.817926</td>\n",
       "    </tr>\n",
       "    <tr>\n",
       "      <th>min</th>\n",
       "      <td>2018-01-01 00:00:00</td>\n",
       "      <td>562.124722</td>\n",
       "    </tr>\n",
       "    <tr>\n",
       "      <th>25%</th>\n",
       "      <td>2018-01-30 06:00:00</td>\n",
       "      <td>707.709653</td>\n",
       "    </tr>\n",
       "    <tr>\n",
       "      <th>50%</th>\n",
       "      <td>2018-02-28 12:00:00</td>\n",
       "      <td>763.181389</td>\n",
       "    </tr>\n",
       "    <tr>\n",
       "      <th>75%</th>\n",
       "      <td>2018-03-29 18:00:00</td>\n",
       "      <td>840.985278</td>\n",
       "    </tr>\n",
       "    <tr>\n",
       "      <th>max</th>\n",
       "      <td>2018-04-30 00:00:00</td>\n",
       "      <td>1123.551944</td>\n",
       "    </tr>\n",
       "    <tr>\n",
       "      <th>std</th>\n",
       "      <td>NaN</td>\n",
       "      <td>122.992002</td>\n",
       "    </tr>\n",
       "  </tbody>\n",
       "</table>\n",
       "</div>"
      ],
      "text/plain": [
       "                               date_  Total_watch_time_in_houres\n",
       "count                             86                   86.000000\n",
       "mean   2018-02-28 17:01:23.720930304                  780.817926\n",
       "min              2018-01-01 00:00:00                  562.124722\n",
       "25%              2018-01-30 06:00:00                  707.709653\n",
       "50%              2018-02-28 12:00:00                  763.181389\n",
       "75%              2018-03-29 18:00:00                  840.985278\n",
       "max              2018-04-30 00:00:00                 1123.551944\n",
       "std                              NaN                  122.992002"
      ]
     },
     "execution_count": 788,
     "metadata": {},
     "output_type": "execute_result"
    }
   ],
   "source": [
    "# describe the numeric values in the dataset\n",
    "dataframe.describe()"
   ]
  },
  {
   "cell_type": "code",
   "execution_count": 789,
   "id": "f71db3ad",
   "metadata": {},
   "outputs": [
    {
     "data": {
      "text/plain": [
       "date_                         False\n",
       "Total_watch_time_in_houres    False\n",
       "dtype: bool"
      ]
     },
     "execution_count": 789,
     "metadata": {},
     "output_type": "execute_result"
    }
   ],
   "source": [
    "# check if any column has null value in the dataset\n",
    "dataframe.isnull().any()"
   ]
  },
  {
   "cell_type": "code",
   "execution_count": 790,
   "id": "b9d9d726",
   "metadata": {},
   "outputs": [],
   "source": [
    "# we import Visualization libraries \n",
    "# you can ignore and use any other graphing libraries \n",
    "import matplotlib.pyplot as plt # a comprehensive library for creating static, animated, and interactive visualizations\n",
    "import plotly #a graphing library makes interactive, publication-quality graphs. Examples of how to make line plots, scatter plots, area charts, bar charts, error bars, box plots, histograms, heatmaps, subplots, multiple-axes, polar charts, and bubble charts.\n",
    "import plotly.express as px\n",
    "import plotly.graph_objects as go\n",
    "from plotly.subplots import make_subplots\n",
    "import pandas as pd\n"
   ]
  },
  {
   "cell_type": "code",
   "execution_count": 791,
   "id": "4b39a4f6-28af-48df-a27a-7988c3970cfd",
   "metadata": {},
   "outputs": [],
   "source": [
    "# Setting the date as index\n",
    "dataframe = pd.read_excel(\"DataSet_T2.xlsb\",index_col=0)"
   ]
  },
  {
   "cell_type": "code",
   "execution_count": 792,
   "id": "77902ae7",
   "metadata": {},
   "outputs": [
    {
     "data": {
      "text/plain": [
       "(86, 2)"
      ]
     },
     "execution_count": 792,
     "metadata": {},
     "output_type": "execute_result"
    }
   ],
   "source": [
    "# Display the dataframe after setting the date as index\n",
    "dataframe.shape\n",
    "\n"
   ]
  },
  {
   "cell_type": "code",
   "execution_count": 793,
   "id": "c5157f78",
   "metadata": {},
   "outputs": [
    {
     "data": {
      "text/html": [
       "<div>\n",
       "<style scoped>\n",
       "    .dataframe tbody tr th:only-of-type {\n",
       "        vertical-align: middle;\n",
       "    }\n",
       "\n",
       "    .dataframe tbody tr th {\n",
       "        vertical-align: top;\n",
       "    }\n",
       "\n",
       "    .dataframe thead th {\n",
       "        text-align: right;\n",
       "    }\n",
       "</style>\n",
       "<table border=\"1\" class=\"dataframe\">\n",
       "  <thead>\n",
       "    <tr style=\"text-align: right;\">\n",
       "      <th></th>\n",
       "      <th>date_</th>\n",
       "      <th>Total_watch_time_in_houres</th>\n",
       "    </tr>\n",
       "  </thead>\n",
       "  <tbody>\n",
       "    <tr>\n",
       "      <th>0</th>\n",
       "      <td>2018-01-01</td>\n",
       "      <td>1123.551944</td>\n",
       "    </tr>\n",
       "    <tr>\n",
       "      <th>1</th>\n",
       "      <td>2018-01-02</td>\n",
       "      <td>1000.129722</td>\n",
       "    </tr>\n",
       "    <tr>\n",
       "      <th>2</th>\n",
       "      <td>2018-01-03</td>\n",
       "      <td>881.924444</td>\n",
       "    </tr>\n",
       "    <tr>\n",
       "      <th>3</th>\n",
       "      <td>2018-01-04</td>\n",
       "      <td>782.669444</td>\n",
       "    </tr>\n",
       "    <tr>\n",
       "      <th>4</th>\n",
       "      <td>2018-01-05</td>\n",
       "      <td>1051.939444</td>\n",
       "    </tr>\n",
       "  </tbody>\n",
       "</table>\n",
       "</div>"
      ],
      "text/plain": [
       "       date_  Total_watch_time_in_houres\n",
       "0 2018-01-01                 1123.551944\n",
       "1 2018-01-02                 1000.129722\n",
       "2 2018-01-03                  881.924444\n",
       "3 2018-01-04                  782.669444\n",
       "4 2018-01-05                 1051.939444"
      ]
     },
     "execution_count": 793,
     "metadata": {},
     "output_type": "execute_result"
    }
   ],
   "source": [
    "# save the excel\n",
    "dataframe.head()"
   ]
  },
  {
   "cell_type": "code",
   "execution_count": 794,
   "id": "8f7775eb",
   "metadata": {},
   "outputs": [
    {
     "data": {
      "text/html": [
       "<div>\n",
       "<style scoped>\n",
       "    .dataframe tbody tr th:only-of-type {\n",
       "        vertical-align: middle;\n",
       "    }\n",
       "\n",
       "    .dataframe tbody tr th {\n",
       "        vertical-align: top;\n",
       "    }\n",
       "\n",
       "    .dataframe thead th {\n",
       "        text-align: right;\n",
       "    }\n",
       "</style>\n",
       "<table border=\"1\" class=\"dataframe\">\n",
       "  <thead>\n",
       "    <tr style=\"text-align: right;\">\n",
       "      <th></th>\n",
       "      <th>date_</th>\n",
       "      <th>Total_watch_time_in_houres</th>\n",
       "    </tr>\n",
       "  </thead>\n",
       "  <tbody>\n",
       "    <tr>\n",
       "      <th>count</th>\n",
       "      <td>86</td>\n",
       "      <td>86.000000</td>\n",
       "    </tr>\n",
       "    <tr>\n",
       "      <th>mean</th>\n",
       "      <td>2018-02-28 17:01:23.720930304</td>\n",
       "      <td>780.817926</td>\n",
       "    </tr>\n",
       "    <tr>\n",
       "      <th>min</th>\n",
       "      <td>2018-01-01 00:00:00</td>\n",
       "      <td>562.124722</td>\n",
       "    </tr>\n",
       "    <tr>\n",
       "      <th>25%</th>\n",
       "      <td>2018-01-30 06:00:00</td>\n",
       "      <td>707.709653</td>\n",
       "    </tr>\n",
       "    <tr>\n",
       "      <th>50%</th>\n",
       "      <td>2018-02-28 12:00:00</td>\n",
       "      <td>763.181389</td>\n",
       "    </tr>\n",
       "    <tr>\n",
       "      <th>75%</th>\n",
       "      <td>2018-03-29 18:00:00</td>\n",
       "      <td>840.985278</td>\n",
       "    </tr>\n",
       "    <tr>\n",
       "      <th>max</th>\n",
       "      <td>2018-04-30 00:00:00</td>\n",
       "      <td>1123.551944</td>\n",
       "    </tr>\n",
       "    <tr>\n",
       "      <th>std</th>\n",
       "      <td>NaN</td>\n",
       "      <td>122.992002</td>\n",
       "    </tr>\n",
       "  </tbody>\n",
       "</table>\n",
       "</div>"
      ],
      "text/plain": [
       "                               date_  Total_watch_time_in_houres\n",
       "count                             86                   86.000000\n",
       "mean   2018-02-28 17:01:23.720930304                  780.817926\n",
       "min              2018-01-01 00:00:00                  562.124722\n",
       "25%              2018-01-30 06:00:00                  707.709653\n",
       "50%              2018-02-28 12:00:00                  763.181389\n",
       "75%              2018-03-29 18:00:00                  840.985278\n",
       "max              2018-04-30 00:00:00                 1123.551944\n",
       "std                              NaN                  122.992002"
      ]
     },
     "execution_count": 794,
     "metadata": {},
     "output_type": "execute_result"
    }
   ],
   "source": [
    "# describe the numeric values in the dataset\n",
    "dataframe.describe()"
   ]
  },
  {
   "cell_type": "code",
   "execution_count": 795,
   "id": "b0952f58",
   "metadata": {},
   "outputs": [
    {
     "data": {
      "text/plain": [
       "date_                         False\n",
       "Total_watch_time_in_houres    False\n",
       "dtype: bool"
      ]
     },
     "execution_count": 795,
     "metadata": {},
     "output_type": "execute_result"
    }
   ],
   "source": [
    "# check if any column has null value in the dataset\n",
    "dataframe.isnull().any()"
   ]
  },
  {
   "cell_type": "code",
   "execution_count": 796,
   "id": "03dd8dec",
   "metadata": {},
   "outputs": [],
   "source": [
    "# we import Visualization libraries \n",
    "# you can ignore and use any other graphing libraries \n",
    "import matplotlib.pyplot as plt # a comprehensive library for creating static, animated, and interactive visualizations\n",
    "import plotly #a graphing library makes interactive, publication-quality graphs. Examples of how to make line plots, scatter plots, area charts, bar charts, error bars, box plots, histograms, heatmaps, subplots, multiple-axes, polar charts, and bubble charts.\n",
    "import plotly.express as px\n",
    "import plotly.graph_objects as go\n",
    "from plotly.subplots import make_subplots\n",
    "# importing necessary Python libraries\n",
    "import pandas as pd \n",
    "import numpy as np\n",
    "import matplotlib.pyplot as plt\n",
    "import seaborn as sns\n",
    "\n",
    "from sklearn.neighbors import KNeighborsClassifier\n",
    "from sklearn.naive_bayes import GaussianNB\n",
    "from sklearn.ensemble import RandomForestClassifier\n",
    "from sklearn.linear_model import LogisticRegression\n",
    "from sklearn.model_selection import KFold, cross_val_score, train_test_split, GridSearchCV, cross_validate\n",
    "from multiscorer import MultiScorer\n",
    "from sklearn.metrics import accuracy_score, f1_score, precision_score, recall_score, confusion_matrix\n",
    "from sklearn.cluster import KMeans\n",
    "import xgboost as xgb\n",
    "import time \n",
    "\n",
    "# Loading the data\n",
    "\n",
    "\n",
    "# avoid displaying warnings\n",
    "import warnings\n",
    "warnings.filterwarnings(\"ignore\")\n"
   ]
  },
  {
   "cell_type": "code",
   "execution_count": 797,
   "id": "b1a327fe",
   "metadata": {},
   "outputs": [],
   "source": [
    "# Setting the date as index\n",
    "#dataframe.set_index('date_', inplace=True)\n"
   ]
  },
  {
   "cell_type": "code",
   "execution_count": 798,
   "id": "eeffb37e",
   "metadata": {},
   "outputs": [
    {
     "data": {
      "text/html": [
       "<div>\n",
       "<style scoped>\n",
       "    .dataframe tbody tr th:only-of-type {\n",
       "        vertical-align: middle;\n",
       "    }\n",
       "\n",
       "    .dataframe tbody tr th {\n",
       "        vertical-align: top;\n",
       "    }\n",
       "\n",
       "    .dataframe thead th {\n",
       "        text-align: right;\n",
       "    }\n",
       "</style>\n",
       "<table border=\"1\" class=\"dataframe\">\n",
       "  <thead>\n",
       "    <tr style=\"text-align: right;\">\n",
       "      <th></th>\n",
       "      <th>date_</th>\n",
       "      <th>Total_watch_time_in_houres</th>\n",
       "    </tr>\n",
       "  </thead>\n",
       "  <tbody>\n",
       "    <tr>\n",
       "      <th>0</th>\n",
       "      <td>2018-01-01</td>\n",
       "      <td>1123.551944</td>\n",
       "    </tr>\n",
       "    <tr>\n",
       "      <th>1</th>\n",
       "      <td>2018-01-02</td>\n",
       "      <td>1000.129722</td>\n",
       "    </tr>\n",
       "    <tr>\n",
       "      <th>2</th>\n",
       "      <td>2018-01-03</td>\n",
       "      <td>881.924444</td>\n",
       "    </tr>\n",
       "    <tr>\n",
       "      <th>3</th>\n",
       "      <td>2018-01-04</td>\n",
       "      <td>782.669444</td>\n",
       "    </tr>\n",
       "    <tr>\n",
       "      <th>4</th>\n",
       "      <td>2018-01-05</td>\n",
       "      <td>1051.939444</td>\n",
       "    </tr>\n",
       "  </tbody>\n",
       "</table>\n",
       "</div>"
      ],
      "text/plain": [
       "       date_  Total_watch_time_in_houres\n",
       "0 2018-01-01                 1123.551944\n",
       "1 2018-01-02                 1000.129722\n",
       "2 2018-01-03                  881.924444\n",
       "3 2018-01-04                  782.669444\n",
       "4 2018-01-05                 1051.939444"
      ]
     },
     "execution_count": 798,
     "metadata": {},
     "output_type": "execute_result"
    }
   ],
   "source": [
    "# Display the dataframe after setting the date as index\n",
    "dataframe.head()"
   ]
  },
  {
   "cell_type": "code",
   "execution_count": 799,
   "id": "6c3ded84",
   "metadata": {},
   "outputs": [
    {
     "data": {
      "application/vnd.plotly.v1+json": {
       "config": {
        "plotlyServerURL": "https://plot.ly"
       },
       "data": [
        {
         "hovertemplate": "index=%{x}<br>Total_watch_time_in_houres=%{y}<extra></extra>",
         "legendgroup": "",
         "line": {
          "color": "#636efa",
          "dash": "solid"
         },
         "marker": {
          "symbol": "circle"
         },
         "mode": "lines",
         "name": "",
         "orientation": "v",
         "showlegend": false,
         "type": "scatter",
         "x": [
          0,
          1,
          2,
          3,
          4,
          5,
          6,
          7,
          8,
          9,
          10,
          11,
          12,
          13,
          14,
          15,
          16,
          17,
          18,
          19,
          20,
          21,
          22,
          23,
          24,
          25,
          26,
          27,
          28,
          29,
          30,
          31,
          32,
          33,
          34,
          35,
          36,
          37,
          38,
          39,
          40,
          41,
          42,
          43,
          44,
          45,
          46,
          47,
          48,
          49,
          50,
          51,
          52,
          53,
          54,
          55,
          56,
          57,
          58,
          59,
          60,
          61,
          62,
          63,
          64,
          65,
          66,
          67,
          68,
          69,
          70,
          71,
          72,
          73,
          74,
          75,
          76,
          77,
          78,
          79,
          80,
          81,
          82,
          83,
          84,
          85
         ],
         "xaxis": "x",
         "y": [
          1123.551944444444,
          1000.129722222222,
          881.9244444444445,
          782.6694444444445,
          1051.939444444444,
          841.1783333333333,
          873.495,
          970.475,
          721.3819444444445,
          772.675,
          714.9938888888889,
          805.5886111111112,
          868.4802777777778,
          784.4961111111111,
          707.3611111111111,
          1016.186666666667,
          872.0452777777778,
          900.6863888888889,
          761.1763888888889,
          896.3708333333333,
          816.4013888888888,
          942.5022222222223,
          825.3066666666666,
          1053.168611111111,
          911.4605555555555,
          1012.082222222222,
          1025.595555555556,
          796.7716666666666,
          795.3891666666667,
          950.52,
          747.4708333333333,
          797.9055555555556,
          863.6788888888889,
          715.1741666666667,
          946.0419444444444,
          731.5791666666667,
          648.1911111111111,
          742.0466666666666,
          821.6544444444445,
          784.7938888888889,
          713.4580555555556,
          739.0086111111111,
          673.3013888888889,
          742.2413888888889,
          564.6958333333333,
          788.7388888888889,
          707.0527777777778,
          782.6436111111111,
          735.6330555555555,
          786.6911111111111,
          803.1025,
          796.0661111111111,
          856.0638888888889,
          708.7552777777778,
          840.4061111111112,
          766.4194444444445,
          662.195,
          760.2508333333334,
          981.6269444444445,
          756.7483333333333,
          814.9961111111111,
          679.4047222222222,
          562.1247222222222,
          750.45,
          755.9766666666667,
          765.1863888888889,
          635.7502777777778,
          714.8213888888889,
          835.5313888888888,
          728.9091666666667,
          605.4136111111111,
          760.4422222222222,
          611.6586111111111,
          603.8777777777777,
          740.0888888888888,
          682.1761111111111,
          750.9444444444445,
          566.1044444444444,
          586.4044444444445,
          700.2966666666666,
          670.8855555555556,
          652.6252777777778,
          650.4288888888889,
          675.1844444444445,
          601.7380555555555,
          609.2816666666666
         ],
         "yaxis": "y"
        }
       ],
       "layout": {
        "legend": {
         "tracegroupgap": 0
        },
        "margin": {
         "t": 60
        },
        "template": {
         "data": {
          "bar": [
           {
            "error_x": {
             "color": "#2a3f5f"
            },
            "error_y": {
             "color": "#2a3f5f"
            },
            "marker": {
             "line": {
              "color": "#E5ECF6",
              "width": 0.5
             },
             "pattern": {
              "fillmode": "overlay",
              "size": 10,
              "solidity": 0.2
             }
            },
            "type": "bar"
           }
          ],
          "barpolar": [
           {
            "marker": {
             "line": {
              "color": "#E5ECF6",
              "width": 0.5
             },
             "pattern": {
              "fillmode": "overlay",
              "size": 10,
              "solidity": 0.2
             }
            },
            "type": "barpolar"
           }
          ],
          "carpet": [
           {
            "aaxis": {
             "endlinecolor": "#2a3f5f",
             "gridcolor": "white",
             "linecolor": "white",
             "minorgridcolor": "white",
             "startlinecolor": "#2a3f5f"
            },
            "baxis": {
             "endlinecolor": "#2a3f5f",
             "gridcolor": "white",
             "linecolor": "white",
             "minorgridcolor": "white",
             "startlinecolor": "#2a3f5f"
            },
            "type": "carpet"
           }
          ],
          "choropleth": [
           {
            "colorbar": {
             "outlinewidth": 0,
             "ticks": ""
            },
            "type": "choropleth"
           }
          ],
          "contour": [
           {
            "colorbar": {
             "outlinewidth": 0,
             "ticks": ""
            },
            "colorscale": [
             [
              0,
              "#0d0887"
             ],
             [
              0.1111111111111111,
              "#46039f"
             ],
             [
              0.2222222222222222,
              "#7201a8"
             ],
             [
              0.3333333333333333,
              "#9c179e"
             ],
             [
              0.4444444444444444,
              "#bd3786"
             ],
             [
              0.5555555555555556,
              "#d8576b"
             ],
             [
              0.6666666666666666,
              "#ed7953"
             ],
             [
              0.7777777777777778,
              "#fb9f3a"
             ],
             [
              0.8888888888888888,
              "#fdca26"
             ],
             [
              1,
              "#f0f921"
             ]
            ],
            "type": "contour"
           }
          ],
          "contourcarpet": [
           {
            "colorbar": {
             "outlinewidth": 0,
             "ticks": ""
            },
            "type": "contourcarpet"
           }
          ],
          "heatmap": [
           {
            "colorbar": {
             "outlinewidth": 0,
             "ticks": ""
            },
            "colorscale": [
             [
              0,
              "#0d0887"
             ],
             [
              0.1111111111111111,
              "#46039f"
             ],
             [
              0.2222222222222222,
              "#7201a8"
             ],
             [
              0.3333333333333333,
              "#9c179e"
             ],
             [
              0.4444444444444444,
              "#bd3786"
             ],
             [
              0.5555555555555556,
              "#d8576b"
             ],
             [
              0.6666666666666666,
              "#ed7953"
             ],
             [
              0.7777777777777778,
              "#fb9f3a"
             ],
             [
              0.8888888888888888,
              "#fdca26"
             ],
             [
              1,
              "#f0f921"
             ]
            ],
            "type": "heatmap"
           }
          ],
          "heatmapgl": [
           {
            "colorbar": {
             "outlinewidth": 0,
             "ticks": ""
            },
            "colorscale": [
             [
              0,
              "#0d0887"
             ],
             [
              0.1111111111111111,
              "#46039f"
             ],
             [
              0.2222222222222222,
              "#7201a8"
             ],
             [
              0.3333333333333333,
              "#9c179e"
             ],
             [
              0.4444444444444444,
              "#bd3786"
             ],
             [
              0.5555555555555556,
              "#d8576b"
             ],
             [
              0.6666666666666666,
              "#ed7953"
             ],
             [
              0.7777777777777778,
              "#fb9f3a"
             ],
             [
              0.8888888888888888,
              "#fdca26"
             ],
             [
              1,
              "#f0f921"
             ]
            ],
            "type": "heatmapgl"
           }
          ],
          "histogram": [
           {
            "marker": {
             "pattern": {
              "fillmode": "overlay",
              "size": 10,
              "solidity": 0.2
             }
            },
            "type": "histogram"
           }
          ],
          "histogram2d": [
           {
            "colorbar": {
             "outlinewidth": 0,
             "ticks": ""
            },
            "colorscale": [
             [
              0,
              "#0d0887"
             ],
             [
              0.1111111111111111,
              "#46039f"
             ],
             [
              0.2222222222222222,
              "#7201a8"
             ],
             [
              0.3333333333333333,
              "#9c179e"
             ],
             [
              0.4444444444444444,
              "#bd3786"
             ],
             [
              0.5555555555555556,
              "#d8576b"
             ],
             [
              0.6666666666666666,
              "#ed7953"
             ],
             [
              0.7777777777777778,
              "#fb9f3a"
             ],
             [
              0.8888888888888888,
              "#fdca26"
             ],
             [
              1,
              "#f0f921"
             ]
            ],
            "type": "histogram2d"
           }
          ],
          "histogram2dcontour": [
           {
            "colorbar": {
             "outlinewidth": 0,
             "ticks": ""
            },
            "colorscale": [
             [
              0,
              "#0d0887"
             ],
             [
              0.1111111111111111,
              "#46039f"
             ],
             [
              0.2222222222222222,
              "#7201a8"
             ],
             [
              0.3333333333333333,
              "#9c179e"
             ],
             [
              0.4444444444444444,
              "#bd3786"
             ],
             [
              0.5555555555555556,
              "#d8576b"
             ],
             [
              0.6666666666666666,
              "#ed7953"
             ],
             [
              0.7777777777777778,
              "#fb9f3a"
             ],
             [
              0.8888888888888888,
              "#fdca26"
             ],
             [
              1,
              "#f0f921"
             ]
            ],
            "type": "histogram2dcontour"
           }
          ],
          "mesh3d": [
           {
            "colorbar": {
             "outlinewidth": 0,
             "ticks": ""
            },
            "type": "mesh3d"
           }
          ],
          "parcoords": [
           {
            "line": {
             "colorbar": {
              "outlinewidth": 0,
              "ticks": ""
             }
            },
            "type": "parcoords"
           }
          ],
          "pie": [
           {
            "automargin": true,
            "type": "pie"
           }
          ],
          "scatter": [
           {
            "fillpattern": {
             "fillmode": "overlay",
             "size": 10,
             "solidity": 0.2
            },
            "type": "scatter"
           }
          ],
          "scatter3d": [
           {
            "line": {
             "colorbar": {
              "outlinewidth": 0,
              "ticks": ""
             }
            },
            "marker": {
             "colorbar": {
              "outlinewidth": 0,
              "ticks": ""
             }
            },
            "type": "scatter3d"
           }
          ],
          "scattercarpet": [
           {
            "marker": {
             "colorbar": {
              "outlinewidth": 0,
              "ticks": ""
             }
            },
            "type": "scattercarpet"
           }
          ],
          "scattergeo": [
           {
            "marker": {
             "colorbar": {
              "outlinewidth": 0,
              "ticks": ""
             }
            },
            "type": "scattergeo"
           }
          ],
          "scattergl": [
           {
            "marker": {
             "colorbar": {
              "outlinewidth": 0,
              "ticks": ""
             }
            },
            "type": "scattergl"
           }
          ],
          "scattermapbox": [
           {
            "marker": {
             "colorbar": {
              "outlinewidth": 0,
              "ticks": ""
             }
            },
            "type": "scattermapbox"
           }
          ],
          "scatterpolar": [
           {
            "marker": {
             "colorbar": {
              "outlinewidth": 0,
              "ticks": ""
             }
            },
            "type": "scatterpolar"
           }
          ],
          "scatterpolargl": [
           {
            "marker": {
             "colorbar": {
              "outlinewidth": 0,
              "ticks": ""
             }
            },
            "type": "scatterpolargl"
           }
          ],
          "scatterternary": [
           {
            "marker": {
             "colorbar": {
              "outlinewidth": 0,
              "ticks": ""
             }
            },
            "type": "scatterternary"
           }
          ],
          "surface": [
           {
            "colorbar": {
             "outlinewidth": 0,
             "ticks": ""
            },
            "colorscale": [
             [
              0,
              "#0d0887"
             ],
             [
              0.1111111111111111,
              "#46039f"
             ],
             [
              0.2222222222222222,
              "#7201a8"
             ],
             [
              0.3333333333333333,
              "#9c179e"
             ],
             [
              0.4444444444444444,
              "#bd3786"
             ],
             [
              0.5555555555555556,
              "#d8576b"
             ],
             [
              0.6666666666666666,
              "#ed7953"
             ],
             [
              0.7777777777777778,
              "#fb9f3a"
             ],
             [
              0.8888888888888888,
              "#fdca26"
             ],
             [
              1,
              "#f0f921"
             ]
            ],
            "type": "surface"
           }
          ],
          "table": [
           {
            "cells": {
             "fill": {
              "color": "#EBF0F8"
             },
             "line": {
              "color": "white"
             }
            },
            "header": {
             "fill": {
              "color": "#C8D4E3"
             },
             "line": {
              "color": "white"
             }
            },
            "type": "table"
           }
          ]
         },
         "layout": {
          "annotationdefaults": {
           "arrowcolor": "#2a3f5f",
           "arrowhead": 0,
           "arrowwidth": 1
          },
          "autotypenumbers": "strict",
          "coloraxis": {
           "colorbar": {
            "outlinewidth": 0,
            "ticks": ""
           }
          },
          "colorscale": {
           "diverging": [
            [
             0,
             "#8e0152"
            ],
            [
             0.1,
             "#c51b7d"
            ],
            [
             0.2,
             "#de77ae"
            ],
            [
             0.3,
             "#f1b6da"
            ],
            [
             0.4,
             "#fde0ef"
            ],
            [
             0.5,
             "#f7f7f7"
            ],
            [
             0.6,
             "#e6f5d0"
            ],
            [
             0.7,
             "#b8e186"
            ],
            [
             0.8,
             "#7fbc41"
            ],
            [
             0.9,
             "#4d9221"
            ],
            [
             1,
             "#276419"
            ]
           ],
           "sequential": [
            [
             0,
             "#0d0887"
            ],
            [
             0.1111111111111111,
             "#46039f"
            ],
            [
             0.2222222222222222,
             "#7201a8"
            ],
            [
             0.3333333333333333,
             "#9c179e"
            ],
            [
             0.4444444444444444,
             "#bd3786"
            ],
            [
             0.5555555555555556,
             "#d8576b"
            ],
            [
             0.6666666666666666,
             "#ed7953"
            ],
            [
             0.7777777777777778,
             "#fb9f3a"
            ],
            [
             0.8888888888888888,
             "#fdca26"
            ],
            [
             1,
             "#f0f921"
            ]
           ],
           "sequentialminus": [
            [
             0,
             "#0d0887"
            ],
            [
             0.1111111111111111,
             "#46039f"
            ],
            [
             0.2222222222222222,
             "#7201a8"
            ],
            [
             0.3333333333333333,
             "#9c179e"
            ],
            [
             0.4444444444444444,
             "#bd3786"
            ],
            [
             0.5555555555555556,
             "#d8576b"
            ],
            [
             0.6666666666666666,
             "#ed7953"
            ],
            [
             0.7777777777777778,
             "#fb9f3a"
            ],
            [
             0.8888888888888888,
             "#fdca26"
            ],
            [
             1,
             "#f0f921"
            ]
           ]
          },
          "colorway": [
           "#636efa",
           "#EF553B",
           "#00cc96",
           "#ab63fa",
           "#FFA15A",
           "#19d3f3",
           "#FF6692",
           "#B6E880",
           "#FF97FF",
           "#FECB52"
          ],
          "font": {
           "color": "#2a3f5f"
          },
          "geo": {
           "bgcolor": "white",
           "lakecolor": "white",
           "landcolor": "#E5ECF6",
           "showlakes": true,
           "showland": true,
           "subunitcolor": "white"
          },
          "hoverlabel": {
           "align": "left"
          },
          "hovermode": "closest",
          "mapbox": {
           "style": "light"
          },
          "paper_bgcolor": "white",
          "plot_bgcolor": "#E5ECF6",
          "polar": {
           "angularaxis": {
            "gridcolor": "white",
            "linecolor": "white",
            "ticks": ""
           },
           "bgcolor": "#E5ECF6",
           "radialaxis": {
            "gridcolor": "white",
            "linecolor": "white",
            "ticks": ""
           }
          },
          "scene": {
           "xaxis": {
            "backgroundcolor": "#E5ECF6",
            "gridcolor": "white",
            "gridwidth": 2,
            "linecolor": "white",
            "showbackground": true,
            "ticks": "",
            "zerolinecolor": "white"
           },
           "yaxis": {
            "backgroundcolor": "#E5ECF6",
            "gridcolor": "white",
            "gridwidth": 2,
            "linecolor": "white",
            "showbackground": true,
            "ticks": "",
            "zerolinecolor": "white"
           },
           "zaxis": {
            "backgroundcolor": "#E5ECF6",
            "gridcolor": "white",
            "gridwidth": 2,
            "linecolor": "white",
            "showbackground": true,
            "ticks": "",
            "zerolinecolor": "white"
           }
          },
          "shapedefaults": {
           "line": {
            "color": "#2a3f5f"
           }
          },
          "ternary": {
           "aaxis": {
            "gridcolor": "white",
            "linecolor": "white",
            "ticks": ""
           },
           "baxis": {
            "gridcolor": "white",
            "linecolor": "white",
            "ticks": ""
           },
           "bgcolor": "#E5ECF6",
           "caxis": {
            "gridcolor": "white",
            "linecolor": "white",
            "ticks": ""
           }
          },
          "title": {
           "x": 0.05
          },
          "xaxis": {
           "automargin": true,
           "gridcolor": "white",
           "linecolor": "white",
           "ticks": "",
           "title": {
            "standoff": 15
           },
           "zerolinecolor": "white",
           "zerolinewidth": 2
          },
          "yaxis": {
           "automargin": true,
           "gridcolor": "white",
           "linecolor": "white",
           "ticks": "",
           "title": {
            "standoff": 15
           },
           "zerolinecolor": "white",
           "zerolinewidth": 2
          }
         }
        },
        "xaxis": {
         "anchor": "y",
         "domain": [
          0,
          1
         ],
         "title": {
          "text": "index"
         }
        },
        "yaxis": {
         "anchor": "x",
         "domain": [
          0,
          1
         ],
         "title": {
          "text": "Total_watch_time_in_houres"
         }
        }
       }
      }
     },
     "metadata": {},
     "output_type": "display_data"
    }
   ],
   "source": [
    "# show the dataframe\n",
    "fig = px.line(dataframe,  y=\"Total_watch_time_in_houres\")\n",
    "fig.show()"
   ]
  },
  {
   "cell_type": "code",
   "execution_count": 800,
   "id": "a6e65c1d",
   "metadata": {},
   "outputs": [],
   "source": [
    "\"\"\"\n",
    "TODO using the previous dataset (df) build a prediction model to predict the expected watch time for the next two months\n",
    "Hint: you can build a forecast model to predict the results\n",
    "\"\"\"\n",
    "# importing necessary Python libraries\n",
    "import pandas as pd \n",
    "import numpy as np\n",
    "import matplotlib.pyplot as plt\n",
    "import seaborn as sns\n",
    "\n",
    "import plotly.express as px\n",
    "#import plotly.offline as pyoff\n",
    "import plotly.graph_objs as go \n",
    "#import plotly.figure_factory as ff\n",
    "\n",
    "# avoid displaying warnings\n",
    "import warnings\n",
    "warnings.filterwarnings(\"ignore\")\n",
    "\n",
    "#import machine learning related libraries\n",
    "from sklearn.svm import SVC\n",
    "from sklearn.multioutput import MultiOutputClassifier\n",
    "from sklearn.ensemble import GradientBoostingClassifier\n",
    "from sklearn.tree import DecisionTreeClassifier\n",
    "from sklearn.neighbors import KNeighborsClassifier\n",
    "from sklearn.naive_bayes import GaussianNB\n",
    "from sklearn.ensemble import RandomForestClassifier\n",
    "from sklearn.linear_model import LogisticRegression\n",
    "from sklearn.model_selection import KFold, cross_val_score, train_test_split, GridSearchCV, cross_validate\n",
    "from multiscorer import MultiScorer\n",
    "from sklearn.metrics import accuracy_score, f1_score, precision_score, recall_score, confusion_matrix\n",
    "from sklearn.cluster import KMeans\n",
    "import xgboost as xgb\n",
    "import time \n",
    "from prophet import Prophet\n",
    "\n",
    "# Rename the following columns: \n",
    "#    Invoice to InvoiceNo\n",
    "#    Customer ID to CustomerID\n",
    "#    Price to UnitPrice\n",
    "\n",
    "#dataframe =dataframe.iloc[1:]\n",
    "dataframe.rename(columns={'date_':'ds','Total_watch_time_in_houres':'y'}, inplace=True)\n",
    "\n",
    "# Loading the data"
   ]
  },
  {
   "cell_type": "code",
   "execution_count": 801,
   "id": "89532199",
   "metadata": {},
   "outputs": [
    {
     "data": {
      "text/html": [
       "<div>\n",
       "<style scoped>\n",
       "    .dataframe tbody tr th:only-of-type {\n",
       "        vertical-align: middle;\n",
       "    }\n",
       "\n",
       "    .dataframe tbody tr th {\n",
       "        vertical-align: top;\n",
       "    }\n",
       "\n",
       "    .dataframe thead th {\n",
       "        text-align: right;\n",
       "    }\n",
       "</style>\n",
       "<table border=\"1\" class=\"dataframe\">\n",
       "  <thead>\n",
       "    <tr style=\"text-align: right;\">\n",
       "      <th></th>\n",
       "      <th>ds</th>\n",
       "      <th>y</th>\n",
       "    </tr>\n",
       "  </thead>\n",
       "  <tbody>\n",
       "    <tr>\n",
       "      <th>0</th>\n",
       "      <td>2018-01-01</td>\n",
       "      <td>1123.551944</td>\n",
       "    </tr>\n",
       "    <tr>\n",
       "      <th>1</th>\n",
       "      <td>2018-01-02</td>\n",
       "      <td>1000.129722</td>\n",
       "    </tr>\n",
       "    <tr>\n",
       "      <th>2</th>\n",
       "      <td>2018-01-03</td>\n",
       "      <td>881.924444</td>\n",
       "    </tr>\n",
       "    <tr>\n",
       "      <th>3</th>\n",
       "      <td>2018-01-04</td>\n",
       "      <td>782.669444</td>\n",
       "    </tr>\n",
       "    <tr>\n",
       "      <th>4</th>\n",
       "      <td>2018-01-05</td>\n",
       "      <td>1051.939444</td>\n",
       "    </tr>\n",
       "    <tr>\n",
       "      <th>5</th>\n",
       "      <td>2018-01-08</td>\n",
       "      <td>841.178333</td>\n",
       "    </tr>\n",
       "    <tr>\n",
       "      <th>6</th>\n",
       "      <td>2018-01-09</td>\n",
       "      <td>873.495000</td>\n",
       "    </tr>\n",
       "    <tr>\n",
       "      <th>7</th>\n",
       "      <td>2018-01-10</td>\n",
       "      <td>970.475000</td>\n",
       "    </tr>\n",
       "    <tr>\n",
       "      <th>8</th>\n",
       "      <td>2018-01-11</td>\n",
       "      <td>721.381944</td>\n",
       "    </tr>\n",
       "    <tr>\n",
       "      <th>9</th>\n",
       "      <td>2018-01-12</td>\n",
       "      <td>772.675000</td>\n",
       "    </tr>\n",
       "    <tr>\n",
       "      <th>10</th>\n",
       "      <td>2018-01-15</td>\n",
       "      <td>714.993889</td>\n",
       "    </tr>\n",
       "    <tr>\n",
       "      <th>11</th>\n",
       "      <td>2018-01-16</td>\n",
       "      <td>805.588611</td>\n",
       "    </tr>\n",
       "    <tr>\n",
       "      <th>12</th>\n",
       "      <td>2018-01-17</td>\n",
       "      <td>868.480278</td>\n",
       "    </tr>\n",
       "    <tr>\n",
       "      <th>13</th>\n",
       "      <td>2018-01-18</td>\n",
       "      <td>784.496111</td>\n",
       "    </tr>\n",
       "    <tr>\n",
       "      <th>14</th>\n",
       "      <td>2018-01-19</td>\n",
       "      <td>707.361111</td>\n",
       "    </tr>\n",
       "    <tr>\n",
       "      <th>15</th>\n",
       "      <td>2018-01-22</td>\n",
       "      <td>1016.186667</td>\n",
       "    </tr>\n",
       "    <tr>\n",
       "      <th>16</th>\n",
       "      <td>2018-01-23</td>\n",
       "      <td>872.045278</td>\n",
       "    </tr>\n",
       "    <tr>\n",
       "      <th>17</th>\n",
       "      <td>2018-01-24</td>\n",
       "      <td>900.686389</td>\n",
       "    </tr>\n",
       "    <tr>\n",
       "      <th>18</th>\n",
       "      <td>2018-01-25</td>\n",
       "      <td>761.176389</td>\n",
       "    </tr>\n",
       "    <tr>\n",
       "      <th>19</th>\n",
       "      <td>2018-01-26</td>\n",
       "      <td>896.370833</td>\n",
       "    </tr>\n",
       "    <tr>\n",
       "      <th>20</th>\n",
       "      <td>2018-01-29</td>\n",
       "      <td>816.401389</td>\n",
       "    </tr>\n",
       "    <tr>\n",
       "      <th>21</th>\n",
       "      <td>2018-01-30</td>\n",
       "      <td>942.502222</td>\n",
       "    </tr>\n",
       "    <tr>\n",
       "      <th>22</th>\n",
       "      <td>2018-01-31</td>\n",
       "      <td>825.306667</td>\n",
       "    </tr>\n",
       "    <tr>\n",
       "      <th>23</th>\n",
       "      <td>2018-02-01</td>\n",
       "      <td>1053.168611</td>\n",
       "    </tr>\n",
       "    <tr>\n",
       "      <th>24</th>\n",
       "      <td>2018-02-02</td>\n",
       "      <td>911.460556</td>\n",
       "    </tr>\n",
       "    <tr>\n",
       "      <th>25</th>\n",
       "      <td>2018-02-05</td>\n",
       "      <td>1012.082222</td>\n",
       "    </tr>\n",
       "    <tr>\n",
       "      <th>26</th>\n",
       "      <td>2018-02-06</td>\n",
       "      <td>1025.595556</td>\n",
       "    </tr>\n",
       "    <tr>\n",
       "      <th>27</th>\n",
       "      <td>2018-02-07</td>\n",
       "      <td>796.771667</td>\n",
       "    </tr>\n",
       "    <tr>\n",
       "      <th>28</th>\n",
       "      <td>2018-02-08</td>\n",
       "      <td>795.389167</td>\n",
       "    </tr>\n",
       "    <tr>\n",
       "      <th>29</th>\n",
       "      <td>2018-02-09</td>\n",
       "      <td>950.520000</td>\n",
       "    </tr>\n",
       "    <tr>\n",
       "      <th>30</th>\n",
       "      <td>2018-02-12</td>\n",
       "      <td>747.470833</td>\n",
       "    </tr>\n",
       "    <tr>\n",
       "      <th>31</th>\n",
       "      <td>2018-02-13</td>\n",
       "      <td>797.905556</td>\n",
       "    </tr>\n",
       "    <tr>\n",
       "      <th>32</th>\n",
       "      <td>2018-02-14</td>\n",
       "      <td>863.678889</td>\n",
       "    </tr>\n",
       "    <tr>\n",
       "      <th>33</th>\n",
       "      <td>2018-02-15</td>\n",
       "      <td>715.174167</td>\n",
       "    </tr>\n",
       "    <tr>\n",
       "      <th>34</th>\n",
       "      <td>2018-02-16</td>\n",
       "      <td>946.041944</td>\n",
       "    </tr>\n",
       "    <tr>\n",
       "      <th>35</th>\n",
       "      <td>2018-02-19</td>\n",
       "      <td>731.579167</td>\n",
       "    </tr>\n",
       "    <tr>\n",
       "      <th>36</th>\n",
       "      <td>2018-02-20</td>\n",
       "      <td>648.191111</td>\n",
       "    </tr>\n",
       "    <tr>\n",
       "      <th>37</th>\n",
       "      <td>2018-02-21</td>\n",
       "      <td>742.046667</td>\n",
       "    </tr>\n",
       "    <tr>\n",
       "      <th>38</th>\n",
       "      <td>2018-02-22</td>\n",
       "      <td>821.654444</td>\n",
       "    </tr>\n",
       "    <tr>\n",
       "      <th>39</th>\n",
       "      <td>2018-02-23</td>\n",
       "      <td>784.793889</td>\n",
       "    </tr>\n",
       "    <tr>\n",
       "      <th>40</th>\n",
       "      <td>2018-02-26</td>\n",
       "      <td>713.458056</td>\n",
       "    </tr>\n",
       "    <tr>\n",
       "      <th>41</th>\n",
       "      <td>2018-02-27</td>\n",
       "      <td>739.008611</td>\n",
       "    </tr>\n",
       "    <tr>\n",
       "      <th>42</th>\n",
       "      <td>2018-02-28</td>\n",
       "      <td>673.301389</td>\n",
       "    </tr>\n",
       "    <tr>\n",
       "      <th>43</th>\n",
       "      <td>2018-03-01</td>\n",
       "      <td>742.241389</td>\n",
       "    </tr>\n",
       "    <tr>\n",
       "      <th>44</th>\n",
       "      <td>2018-03-02</td>\n",
       "      <td>564.695833</td>\n",
       "    </tr>\n",
       "    <tr>\n",
       "      <th>45</th>\n",
       "      <td>2018-03-05</td>\n",
       "      <td>788.738889</td>\n",
       "    </tr>\n",
       "    <tr>\n",
       "      <th>46</th>\n",
       "      <td>2018-03-06</td>\n",
       "      <td>707.052778</td>\n",
       "    </tr>\n",
       "    <tr>\n",
       "      <th>47</th>\n",
       "      <td>2018-03-07</td>\n",
       "      <td>782.643611</td>\n",
       "    </tr>\n",
       "    <tr>\n",
       "      <th>48</th>\n",
       "      <td>2018-03-08</td>\n",
       "      <td>735.633056</td>\n",
       "    </tr>\n",
       "    <tr>\n",
       "      <th>49</th>\n",
       "      <td>2018-03-09</td>\n",
       "      <td>786.691111</td>\n",
       "    </tr>\n",
       "    <tr>\n",
       "      <th>50</th>\n",
       "      <td>2018-03-12</td>\n",
       "      <td>803.102500</td>\n",
       "    </tr>\n",
       "    <tr>\n",
       "      <th>51</th>\n",
       "      <td>2018-03-13</td>\n",
       "      <td>796.066111</td>\n",
       "    </tr>\n",
       "    <tr>\n",
       "      <th>52</th>\n",
       "      <td>2018-03-14</td>\n",
       "      <td>856.063889</td>\n",
       "    </tr>\n",
       "    <tr>\n",
       "      <th>53</th>\n",
       "      <td>2018-03-15</td>\n",
       "      <td>708.755278</td>\n",
       "    </tr>\n",
       "    <tr>\n",
       "      <th>54</th>\n",
       "      <td>2018-03-16</td>\n",
       "      <td>840.406111</td>\n",
       "    </tr>\n",
       "    <tr>\n",
       "      <th>55</th>\n",
       "      <td>2018-03-19</td>\n",
       "      <td>766.419444</td>\n",
       "    </tr>\n",
       "    <tr>\n",
       "      <th>56</th>\n",
       "      <td>2018-03-20</td>\n",
       "      <td>662.195000</td>\n",
       "    </tr>\n",
       "    <tr>\n",
       "      <th>57</th>\n",
       "      <td>2018-03-21</td>\n",
       "      <td>760.250833</td>\n",
       "    </tr>\n",
       "    <tr>\n",
       "      <th>58</th>\n",
       "      <td>2018-03-22</td>\n",
       "      <td>981.626944</td>\n",
       "    </tr>\n",
       "    <tr>\n",
       "      <th>59</th>\n",
       "      <td>2018-03-23</td>\n",
       "      <td>756.748333</td>\n",
       "    </tr>\n",
       "    <tr>\n",
       "      <th>60</th>\n",
       "      <td>2018-03-26</td>\n",
       "      <td>814.996111</td>\n",
       "    </tr>\n",
       "    <tr>\n",
       "      <th>61</th>\n",
       "      <td>2018-03-27</td>\n",
       "      <td>679.404722</td>\n",
       "    </tr>\n",
       "    <tr>\n",
       "      <th>62</th>\n",
       "      <td>2018-03-28</td>\n",
       "      <td>562.124722</td>\n",
       "    </tr>\n",
       "    <tr>\n",
       "      <th>63</th>\n",
       "      <td>2018-03-29</td>\n",
       "      <td>750.450000</td>\n",
       "    </tr>\n",
       "    <tr>\n",
       "      <th>64</th>\n",
       "      <td>2018-03-30</td>\n",
       "      <td>755.976667</td>\n",
       "    </tr>\n",
       "    <tr>\n",
       "      <th>65</th>\n",
       "      <td>2018-04-02</td>\n",
       "      <td>765.186389</td>\n",
       "    </tr>\n",
       "    <tr>\n",
       "      <th>66</th>\n",
       "      <td>2018-04-03</td>\n",
       "      <td>635.750278</td>\n",
       "    </tr>\n",
       "    <tr>\n",
       "      <th>67</th>\n",
       "      <td>2018-04-04</td>\n",
       "      <td>714.821389</td>\n",
       "    </tr>\n",
       "    <tr>\n",
       "      <th>68</th>\n",
       "      <td>2018-04-05</td>\n",
       "      <td>835.531389</td>\n",
       "    </tr>\n",
       "    <tr>\n",
       "      <th>69</th>\n",
       "      <td>2018-04-06</td>\n",
       "      <td>728.909167</td>\n",
       "    </tr>\n",
       "    <tr>\n",
       "      <th>70</th>\n",
       "      <td>2018-04-09</td>\n",
       "      <td>605.413611</td>\n",
       "    </tr>\n",
       "    <tr>\n",
       "      <th>71</th>\n",
       "      <td>2018-04-10</td>\n",
       "      <td>760.442222</td>\n",
       "    </tr>\n",
       "    <tr>\n",
       "      <th>72</th>\n",
       "      <td>2018-04-11</td>\n",
       "      <td>611.658611</td>\n",
       "    </tr>\n",
       "    <tr>\n",
       "      <th>73</th>\n",
       "      <td>2018-04-12</td>\n",
       "      <td>603.877778</td>\n",
       "    </tr>\n",
       "    <tr>\n",
       "      <th>74</th>\n",
       "      <td>2018-04-13</td>\n",
       "      <td>740.088889</td>\n",
       "    </tr>\n",
       "    <tr>\n",
       "      <th>75</th>\n",
       "      <td>2018-04-16</td>\n",
       "      <td>682.176111</td>\n",
       "    </tr>\n",
       "    <tr>\n",
       "      <th>76</th>\n",
       "      <td>2018-04-17</td>\n",
       "      <td>750.944444</td>\n",
       "    </tr>\n",
       "    <tr>\n",
       "      <th>77</th>\n",
       "      <td>2018-04-18</td>\n",
       "      <td>566.104444</td>\n",
       "    </tr>\n",
       "    <tr>\n",
       "      <th>78</th>\n",
       "      <td>2018-04-19</td>\n",
       "      <td>586.404444</td>\n",
       "    </tr>\n",
       "    <tr>\n",
       "      <th>79</th>\n",
       "      <td>2018-04-20</td>\n",
       "      <td>700.296667</td>\n",
       "    </tr>\n",
       "    <tr>\n",
       "      <th>80</th>\n",
       "      <td>2018-04-23</td>\n",
       "      <td>670.885556</td>\n",
       "    </tr>\n",
       "    <tr>\n",
       "      <th>81</th>\n",
       "      <td>2018-04-24</td>\n",
       "      <td>652.625278</td>\n",
       "    </tr>\n",
       "    <tr>\n",
       "      <th>82</th>\n",
       "      <td>2018-04-25</td>\n",
       "      <td>650.428889</td>\n",
       "    </tr>\n",
       "    <tr>\n",
       "      <th>83</th>\n",
       "      <td>2018-04-26</td>\n",
       "      <td>675.184444</td>\n",
       "    </tr>\n",
       "    <tr>\n",
       "      <th>84</th>\n",
       "      <td>2018-04-27</td>\n",
       "      <td>601.738056</td>\n",
       "    </tr>\n",
       "    <tr>\n",
       "      <th>85</th>\n",
       "      <td>2018-04-30</td>\n",
       "      <td>609.281667</td>\n",
       "    </tr>\n",
       "  </tbody>\n",
       "</table>\n",
       "</div>"
      ],
      "text/plain": [
       "           ds            y\n",
       "0  2018-01-01  1123.551944\n",
       "1  2018-01-02  1000.129722\n",
       "2  2018-01-03   881.924444\n",
       "3  2018-01-04   782.669444\n",
       "4  2018-01-05  1051.939444\n",
       "5  2018-01-08   841.178333\n",
       "6  2018-01-09   873.495000\n",
       "7  2018-01-10   970.475000\n",
       "8  2018-01-11   721.381944\n",
       "9  2018-01-12   772.675000\n",
       "10 2018-01-15   714.993889\n",
       "11 2018-01-16   805.588611\n",
       "12 2018-01-17   868.480278\n",
       "13 2018-01-18   784.496111\n",
       "14 2018-01-19   707.361111\n",
       "15 2018-01-22  1016.186667\n",
       "16 2018-01-23   872.045278\n",
       "17 2018-01-24   900.686389\n",
       "18 2018-01-25   761.176389\n",
       "19 2018-01-26   896.370833\n",
       "20 2018-01-29   816.401389\n",
       "21 2018-01-30   942.502222\n",
       "22 2018-01-31   825.306667\n",
       "23 2018-02-01  1053.168611\n",
       "24 2018-02-02   911.460556\n",
       "25 2018-02-05  1012.082222\n",
       "26 2018-02-06  1025.595556\n",
       "27 2018-02-07   796.771667\n",
       "28 2018-02-08   795.389167\n",
       "29 2018-02-09   950.520000\n",
       "30 2018-02-12   747.470833\n",
       "31 2018-02-13   797.905556\n",
       "32 2018-02-14   863.678889\n",
       "33 2018-02-15   715.174167\n",
       "34 2018-02-16   946.041944\n",
       "35 2018-02-19   731.579167\n",
       "36 2018-02-20   648.191111\n",
       "37 2018-02-21   742.046667\n",
       "38 2018-02-22   821.654444\n",
       "39 2018-02-23   784.793889\n",
       "40 2018-02-26   713.458056\n",
       "41 2018-02-27   739.008611\n",
       "42 2018-02-28   673.301389\n",
       "43 2018-03-01   742.241389\n",
       "44 2018-03-02   564.695833\n",
       "45 2018-03-05   788.738889\n",
       "46 2018-03-06   707.052778\n",
       "47 2018-03-07   782.643611\n",
       "48 2018-03-08   735.633056\n",
       "49 2018-03-09   786.691111\n",
       "50 2018-03-12   803.102500\n",
       "51 2018-03-13   796.066111\n",
       "52 2018-03-14   856.063889\n",
       "53 2018-03-15   708.755278\n",
       "54 2018-03-16   840.406111\n",
       "55 2018-03-19   766.419444\n",
       "56 2018-03-20   662.195000\n",
       "57 2018-03-21   760.250833\n",
       "58 2018-03-22   981.626944\n",
       "59 2018-03-23   756.748333\n",
       "60 2018-03-26   814.996111\n",
       "61 2018-03-27   679.404722\n",
       "62 2018-03-28   562.124722\n",
       "63 2018-03-29   750.450000\n",
       "64 2018-03-30   755.976667\n",
       "65 2018-04-02   765.186389\n",
       "66 2018-04-03   635.750278\n",
       "67 2018-04-04   714.821389\n",
       "68 2018-04-05   835.531389\n",
       "69 2018-04-06   728.909167\n",
       "70 2018-04-09   605.413611\n",
       "71 2018-04-10   760.442222\n",
       "72 2018-04-11   611.658611\n",
       "73 2018-04-12   603.877778\n",
       "74 2018-04-13   740.088889\n",
       "75 2018-04-16   682.176111\n",
       "76 2018-04-17   750.944444\n",
       "77 2018-04-18   566.104444\n",
       "78 2018-04-19   586.404444\n",
       "79 2018-04-20   700.296667\n",
       "80 2018-04-23   670.885556\n",
       "81 2018-04-24   652.625278\n",
       "82 2018-04-25   650.428889\n",
       "83 2018-04-26   675.184444\n",
       "84 2018-04-27   601.738056\n",
       "85 2018-04-30   609.281667"
      ]
     },
     "execution_count": 801,
     "metadata": {},
     "output_type": "execute_result"
    }
   ],
   "source": [
    "dataframe"
   ]
  },
  {
   "cell_type": "code",
   "execution_count": 802,
   "id": "75cb9a9c",
   "metadata": {},
   "outputs": [
    {
     "name": "stderr",
     "output_type": "stream",
     "text": [
      "03:32:25 - cmdstanpy - INFO - Chain [1] start processing\n",
      "03:32:26 - cmdstanpy - INFO - Chain [1] done processing\n"
     ]
    },
    {
     "data": {
      "text/plain": [
       "<prophet.forecaster.Prophet at 0x25a3b2c8910>"
      ]
     },
     "execution_count": 802,
     "metadata": {},
     "output_type": "execute_result"
    }
   ],
   "source": [
    "df = dataframe.copy()\n",
    "m = Prophet()\n",
    "m.fit(df)"
   ]
  },
  {
   "cell_type": "code",
   "execution_count": 803,
   "id": "9e7694be",
   "metadata": {},
   "outputs": [
    {
     "data": {
      "text/html": [
       "<div>\n",
       "<style scoped>\n",
       "    .dataframe tbody tr th:only-of-type {\n",
       "        vertical-align: middle;\n",
       "    }\n",
       "\n",
       "    .dataframe tbody tr th {\n",
       "        vertical-align: top;\n",
       "    }\n",
       "\n",
       "    .dataframe thead th {\n",
       "        text-align: right;\n",
       "    }\n",
       "</style>\n",
       "<table border=\"1\" class=\"dataframe\">\n",
       "  <thead>\n",
       "    <tr style=\"text-align: right;\">\n",
       "      <th></th>\n",
       "      <th>ds</th>\n",
       "    </tr>\n",
       "  </thead>\n",
       "  <tbody>\n",
       "    <tr>\n",
       "      <th>141</th>\n",
       "      <td>2018-06-25</td>\n",
       "    </tr>\n",
       "    <tr>\n",
       "      <th>142</th>\n",
       "      <td>2018-06-26</td>\n",
       "    </tr>\n",
       "    <tr>\n",
       "      <th>143</th>\n",
       "      <td>2018-06-27</td>\n",
       "    </tr>\n",
       "    <tr>\n",
       "      <th>144</th>\n",
       "      <td>2018-06-28</td>\n",
       "    </tr>\n",
       "    <tr>\n",
       "      <th>145</th>\n",
       "      <td>2018-06-29</td>\n",
       "    </tr>\n",
       "  </tbody>\n",
       "</table>\n",
       "</div>"
      ],
      "text/plain": [
       "            ds\n",
       "141 2018-06-25\n",
       "142 2018-06-26\n",
       "143 2018-06-27\n",
       "144 2018-06-28\n",
       "145 2018-06-29"
      ]
     },
     "execution_count": 803,
     "metadata": {},
     "output_type": "execute_result"
    }
   ],
   "source": [
    "future = m.make_future_dataframe(periods=60)\n",
    "future.tail()"
   ]
  },
  {
   "cell_type": "code",
   "execution_count": 804,
   "id": "f995087b",
   "metadata": {},
   "outputs": [
    {
     "data": {
      "text/html": [
       "<div>\n",
       "<style scoped>\n",
       "    .dataframe tbody tr th:only-of-type {\n",
       "        vertical-align: middle;\n",
       "    }\n",
       "\n",
       "    .dataframe tbody tr th {\n",
       "        vertical-align: top;\n",
       "    }\n",
       "\n",
       "    .dataframe thead th {\n",
       "        text-align: right;\n",
       "    }\n",
       "</style>\n",
       "<table border=\"1\" class=\"dataframe\">\n",
       "  <thead>\n",
       "    <tr style=\"text-align: right;\">\n",
       "      <th></th>\n",
       "      <th>ds</th>\n",
       "      <th>yhat</th>\n",
       "      <th>yhat_lower</th>\n",
       "      <th>yhat_upper</th>\n",
       "    </tr>\n",
       "  </thead>\n",
       "  <tbody>\n",
       "    <tr>\n",
       "      <th>141</th>\n",
       "      <td>2018-06-25</td>\n",
       "      <td>527.043851</td>\n",
       "      <td>412.474439</td>\n",
       "      <td>650.266652</td>\n",
       "    </tr>\n",
       "    <tr>\n",
       "      <th>142</th>\n",
       "      <td>2018-06-26</td>\n",
       "      <td>514.130002</td>\n",
       "      <td>379.913172</td>\n",
       "      <td>630.520987</td>\n",
       "    </tr>\n",
       "    <tr>\n",
       "      <th>143</th>\n",
       "      <td>2018-06-27</td>\n",
       "      <td>495.176923</td>\n",
       "      <td>377.472255</td>\n",
       "      <td>618.781951</td>\n",
       "    </tr>\n",
       "    <tr>\n",
       "      <th>144</th>\n",
       "      <td>2018-06-28</td>\n",
       "      <td>496.827142</td>\n",
       "      <td>382.009814</td>\n",
       "      <td>609.893529</td>\n",
       "    </tr>\n",
       "    <tr>\n",
       "      <th>145</th>\n",
       "      <td>2018-06-29</td>\n",
       "      <td>522.821625</td>\n",
       "      <td>404.107016</td>\n",
       "      <td>636.128474</td>\n",
       "    </tr>\n",
       "  </tbody>\n",
       "</table>\n",
       "</div>"
      ],
      "text/plain": [
       "            ds        yhat  yhat_lower  yhat_upper\n",
       "141 2018-06-25  527.043851  412.474439  650.266652\n",
       "142 2018-06-26  514.130002  379.913172  630.520987\n",
       "143 2018-06-27  495.176923  377.472255  618.781951\n",
       "144 2018-06-28  496.827142  382.009814  609.893529\n",
       "145 2018-06-29  522.821625  404.107016  636.128474"
      ]
     },
     "execution_count": 804,
     "metadata": {},
     "output_type": "execute_result"
    }
   ],
   "source": [
    "forecast = m.predict(future)\n",
    "forecast[['ds', 'yhat', 'yhat_lower', 'yhat_upper']].tail()"
   ]
  },
  {
   "cell_type": "code",
   "execution_count": 805,
   "id": "13f3b0f9",
   "metadata": {},
   "outputs": [
    {
     "data": {
      "image/png": "[encoded data removed]",
      "text/plain": [
       "<Figure size 1000x600 with 1 Axes>"
      ]
     },
     "metadata": {},
     "output_type": "display_data"
    }
   ],
   "source": [
    "fig1 = m.plot(forecast)"
   ]
  },
  {
   "cell_type": "code",
   "execution_count": 806,
   "id": "804bc6db",
   "metadata": {},
   "outputs": [
    {
     "data": {
      "image/png": "[encoded data removed]",
      "text/plain": [
       "<Figure size 900x600 with 2 Axes>"
      ]
     },
     "metadata": {},
     "output_type": "display_data"
    }
   ],
   "source": [
    "fig2 = m.plot_components(forecast)"
   ]
  },
  {
   "cell_type": "code",
   "execution_count": null,
   "id": "24a3448a",
   "metadata": {},
   "outputs": [],
   "source": []
  }
 ],
 "metadata": {
  "kernelspec": {
   "display_name": "Python 3 (ipykernel)",
   "language": "python",
   "name": "python3"
  },
  "language_info": {
   "codemirror_mode": {
    "name": "ipython",
    "version": 3
   },
   "file_extension": ".py",
   "mimetype": "text/x-python",
   "name": "python",
   "nbconvert_exporter": "python",
   "pygments_lexer": "ipython3",
   "version": "3.10.7"
  }
 },
 "nbformat": 4,
 "nbformat_minor": 5
}
